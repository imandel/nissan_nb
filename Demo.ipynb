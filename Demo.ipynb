{
 "cells": [
  {
   "cell_type": "code",
   "execution_count": 1,
   "id": "865ca131",
   "metadata": {},
   "outputs": [],
   "source": [
    "import vanity"
   ]
  },
  {
   "cell_type": "code",
   "execution_count": 10,
   "id": "d6410a2b",
   "metadata": {
    "scrolled": false
   },
   "outputs": [
    {
     "data": {
      "application/vnd.jupyter.widget-view+json": {
       "model_id": "a39a0d2e44bb4e63bc89db0c59e3161f",
       "version_major": 2,
       "version_minor": 0
      },
      "text/plain": [
       "Multiview(author='ilan', src='P4_0346_convo.mp4', tags=['tag1', 'tag2', 'tag3'])"
      ]
     },
     "metadata": {},
     "output_type": "display_data"
    }
   ],
   "source": [
    "tagger = vanity.Multiview(src='P4_0346_convo.mp4',  \n",
    "                     tags=['tag1','tag2','tag3'], \n",
    "                     author='ilan')\n",
    "tagger"
   ]
  },
  {
   "cell_type": "code",
   "execution_count": 13,
   "id": "07d5f787",
   "metadata": {},
   "outputs": [],
   "source": [
    "tagger.df.to_json('ilan-notes.json')"
   ]
  },
  {
   "cell_type": "code",
   "execution_count": 9,
   "id": "723a7406",
   "metadata": {},
   "outputs": [
    {
     "data": {
      "text/html": [
       "<div>\n",
       "<style scoped>\n",
       "    .dataframe tbody tr th:only-of-type {\n",
       "        vertical-align: middle;\n",
       "    }\n",
       "\n",
       "    .dataframe tbody tr th {\n",
       "        vertical-align: top;\n",
       "    }\n",
       "\n",
       "    .dataframe thead th {\n",
       "        text-align: right;\n",
       "    }\n",
       "</style>\n",
       "<table border=\"1\" class=\"dataframe\">\n",
       "  <thead>\n",
       "    <tr style=\"text-align: right;\">\n",
       "      <th></th>\n",
       "      <th>src</th>\n",
       "      <th>start</th>\n",
       "      <th>end</th>\n",
       "      <th>tags</th>\n",
       "      <th>comments</th>\n",
       "      <th>author</th>\n",
       "    </tr>\n",
       "  </thead>\n",
       "  <tbody>\n",
       "    <tr>\n",
       "      <th>0</th>\n",
       "      <td>P4_0346_convo.mp4</td>\n",
       "      <td>10.913000</td>\n",
       "      <td>18.442000</td>\n",
       "      <td>[]</td>\n",
       "      <td></td>\n",
       "      <td>ilan</td>\n",
       "    </tr>\n",
       "    <tr>\n",
       "      <th>1</th>\n",
       "      <td>P4_0346_convo.mp4</td>\n",
       "      <td>50.403000</td>\n",
       "      <td>56.396000</td>\n",
       "      <td>[]</td>\n",
       "      <td></td>\n",
       "      <td>ilan</td>\n",
       "    </tr>\n",
       "    <tr>\n",
       "      <th>2</th>\n",
       "      <td>P4_0346_convo.mp4</td>\n",
       "      <td>16.034669</td>\n",
       "      <td>16.034669</td>\n",
       "      <td>[tag3]</td>\n",
       "      <td>lkjdfdsalk;fja</td>\n",
       "      <td>ilan</td>\n",
       "    </tr>\n",
       "    <tr>\n",
       "      <th>3</th>\n",
       "      <td>P4_0346_convo.mp4</td>\n",
       "      <td>16.034669</td>\n",
       "      <td>16.034669</td>\n",
       "      <td>[]</td>\n",
       "      <td></td>\n",
       "      <td>ilan</td>\n",
       "    </tr>\n",
       "    <tr>\n",
       "      <th>4</th>\n",
       "      <td>P4_0346_convo.mp4</td>\n",
       "      <td>16.034669</td>\n",
       "      <td>16.034669</td>\n",
       "      <td>[]</td>\n",
       "      <td></td>\n",
       "      <td>ilan</td>\n",
       "    </tr>\n",
       "    <tr>\n",
       "      <th>5</th>\n",
       "      <td>P4_0346_convo.mp4</td>\n",
       "      <td>16.034669</td>\n",
       "      <td>16.034669</td>\n",
       "      <td>[]</td>\n",
       "      <td></td>\n",
       "      <td>ilan</td>\n",
       "    </tr>\n",
       "    <tr>\n",
       "      <th>6</th>\n",
       "      <td>P4_0346_convo.mp4</td>\n",
       "      <td>16.034669</td>\n",
       "      <td>16.034669</td>\n",
       "      <td>[]</td>\n",
       "      <td></td>\n",
       "      <td>ilan</td>\n",
       "    </tr>\n",
       "    <tr>\n",
       "      <th>7</th>\n",
       "      <td>P4_0346_convo.mp4</td>\n",
       "      <td>16.034669</td>\n",
       "      <td>16.034669</td>\n",
       "      <td>[]</td>\n",
       "      <td></td>\n",
       "      <td>ilan</td>\n",
       "    </tr>\n",
       "    <tr>\n",
       "      <th>8</th>\n",
       "      <td>P4_0346_convo.mp4</td>\n",
       "      <td>16.034669</td>\n",
       "      <td>16.034669</td>\n",
       "      <td>[]</td>\n",
       "      <td></td>\n",
       "      <td>ilan</td>\n",
       "    </tr>\n",
       "    <tr>\n",
       "      <th>9</th>\n",
       "      <td>P4_0346_convo.mp4</td>\n",
       "      <td>16.034669</td>\n",
       "      <td>16.034669</td>\n",
       "      <td>[]</td>\n",
       "      <td></td>\n",
       "      <td>ilan</td>\n",
       "    </tr>\n",
       "    <tr>\n",
       "      <th>10</th>\n",
       "      <td>P4_0346_convo.mp4</td>\n",
       "      <td>16.034669</td>\n",
       "      <td>16.034669</td>\n",
       "      <td>[]</td>\n",
       "      <td></td>\n",
       "      <td>ilan</td>\n",
       "    </tr>\n",
       "    <tr>\n",
       "      <th>11</th>\n",
       "      <td>P4_0346_convo.mp4</td>\n",
       "      <td>16.034669</td>\n",
       "      <td>16.034669</td>\n",
       "      <td>[]</td>\n",
       "      <td></td>\n",
       "      <td>ilan</td>\n",
       "    </tr>\n",
       "  </tbody>\n",
       "</table>\n",
       "</div>"
      ],
      "text/plain": [
       "                  src      start        end    tags        comments author\n",
       "0   P4_0346_convo.mp4  10.913000  18.442000      []                   ilan\n",
       "1   P4_0346_convo.mp4  50.403000  56.396000      []                   ilan\n",
       "2   P4_0346_convo.mp4  16.034669  16.034669  [tag3]  lkjdfdsalk;fja   ilan\n",
       "3   P4_0346_convo.mp4  16.034669  16.034669      []                   ilan\n",
       "4   P4_0346_convo.mp4  16.034669  16.034669      []                   ilan\n",
       "5   P4_0346_convo.mp4  16.034669  16.034669      []                   ilan\n",
       "6   P4_0346_convo.mp4  16.034669  16.034669      []                   ilan\n",
       "7   P4_0346_convo.mp4  16.034669  16.034669      []                   ilan\n",
       "8   P4_0346_convo.mp4  16.034669  16.034669      []                   ilan\n",
       "9   P4_0346_convo.mp4  16.034669  16.034669      []                   ilan\n",
       "10  P4_0346_convo.mp4  16.034669  16.034669      []                   ilan\n",
       "11  P4_0346_convo.mp4  16.034669  16.034669      []                   ilan"
      ]
     },
     "execution_count": 9,
     "metadata": {},
     "output_type": "execute_result"
    }
   ],
   "source": [
    "tagger.df"
   ]
  }
 ],
 "metadata": {
  "kernelspec": {
   "display_name": "Python 3",
   "language": "python",
   "name": "python3"
  },
  "language_info": {
   "codemirror_mode": {
    "name": "ipython",
    "version": 3
   },
   "file_extension": ".py",
   "mimetype": "text/x-python",
   "name": "python",
   "nbconvert_exporter": "python",
   "pygments_lexer": "ipython3",
   "version": "3.9.2"
  }
 },
 "nbformat": 4,
 "nbformat_minor": 5
}
